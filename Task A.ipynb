{
  "nbformat": 4,
  "nbformat_minor": 0,
  "metadata": {
    "colab": {
      "provenance": [],
      "authorship_tag": "ABX9TyOlJqtj8JIl8mwJ4dv+wCpB",
      "include_colab_link": true
    },
    "kernelspec": {
      "name": "python3",
      "display_name": "Python 3"
    },
    "language_info": {
      "name": "python"
    }
  },
  "cells": [
    {
      "cell_type": "markdown",
      "metadata": {
        "id": "view-in-github",
        "colab_type": "text"
      },
      "source": [
        "<a href=\"https://colab.research.google.com/github/runnithan03/Deep-Learning-and-Artificial-Intelligence/blob/master/Task%20A.ipynb\" target=\"_parent\"><img src=\"https://colab.research.google.com/assets/colab-badge.svg\" alt=\"Open In Colab\"/></a>"
      ]
    },
    {
      "cell_type": "code",
      "source": [
        "from google.colab import files\n",
        "uploaded = files.upload()"
      ],
      "metadata": {
        "colab": {
          "base_uri": "https://localhost:8080/",
          "height": 109
        },
        "id": "SqtbjEuxvTB1",
        "outputId": "4595364e-3aa2-4764-ecc9-ca74e10b4c97"
      },
      "execution_count": null,
      "outputs": [
        {
          "output_type": "display_data",
          "data": {
            "text/plain": [
              "<IPython.core.display.HTML object>"
            ],
            "text/html": [
              "\n",
              "     <input type=\"file\" id=\"files-bc2c2964-40f3-4deb-a880-4517832f7acc\" name=\"files[]\" multiple disabled\n",
              "        style=\"border:none\" />\n",
              "     <output id=\"result-bc2c2964-40f3-4deb-a880-4517832f7acc\">\n",
              "      Upload widget is only available when the cell has been executed in the\n",
              "      current browser session. Please rerun this cell to enable.\n",
              "      </output>\n",
              "      <script>// Copyright 2017 Google LLC\n",
              "//\n",
              "// Licensed under the Apache License, Version 2.0 (the \"License\");\n",
              "// you may not use this file except in compliance with the License.\n",
              "// You may obtain a copy of the License at\n",
              "//\n",
              "//      http://www.apache.org/licenses/LICENSE-2.0\n",
              "//\n",
              "// Unless required by applicable law or agreed to in writing, software\n",
              "// distributed under the License is distributed on an \"AS IS\" BASIS,\n",
              "// WITHOUT WARRANTIES OR CONDITIONS OF ANY KIND, either express or implied.\n",
              "// See the License for the specific language governing permissions and\n",
              "// limitations under the License.\n",
              "\n",
              "/**\n",
              " * @fileoverview Helpers for google.colab Python module.\n",
              " */\n",
              "(function(scope) {\n",
              "function span(text, styleAttributes = {}) {\n",
              "  const element = document.createElement('span');\n",
              "  element.textContent = text;\n",
              "  for (const key of Object.keys(styleAttributes)) {\n",
              "    element.style[key] = styleAttributes[key];\n",
              "  }\n",
              "  return element;\n",
              "}\n",
              "\n",
              "// Max number of bytes which will be uploaded at a time.\n",
              "const MAX_PAYLOAD_SIZE = 100 * 1024;\n",
              "\n",
              "function _uploadFiles(inputId, outputId) {\n",
              "  const steps = uploadFilesStep(inputId, outputId);\n",
              "  const outputElement = document.getElementById(outputId);\n",
              "  // Cache steps on the outputElement to make it available for the next call\n",
              "  // to uploadFilesContinue from Python.\n",
              "  outputElement.steps = steps;\n",
              "\n",
              "  return _uploadFilesContinue(outputId);\n",
              "}\n",
              "\n",
              "// This is roughly an async generator (not supported in the browser yet),\n",
              "// where there are multiple asynchronous steps and the Python side is going\n",
              "// to poll for completion of each step.\n",
              "// This uses a Promise to block the python side on completion of each step,\n",
              "// then passes the result of the previous step as the input to the next step.\n",
              "function _uploadFilesContinue(outputId) {\n",
              "  const outputElement = document.getElementById(outputId);\n",
              "  const steps = outputElement.steps;\n",
              "\n",
              "  const next = steps.next(outputElement.lastPromiseValue);\n",
              "  return Promise.resolve(next.value.promise).then((value) => {\n",
              "    // Cache the last promise value to make it available to the next\n",
              "    // step of the generator.\n",
              "    outputElement.lastPromiseValue = value;\n",
              "    return next.value.response;\n",
              "  });\n",
              "}\n",
              "\n",
              "/**\n",
              " * Generator function which is called between each async step of the upload\n",
              " * process.\n",
              " * @param {string} inputId Element ID of the input file picker element.\n",
              " * @param {string} outputId Element ID of the output display.\n",
              " * @return {!Iterable<!Object>} Iterable of next steps.\n",
              " */\n",
              "function* uploadFilesStep(inputId, outputId) {\n",
              "  const inputElement = document.getElementById(inputId);\n",
              "  inputElement.disabled = false;\n",
              "\n",
              "  const outputElement = document.getElementById(outputId);\n",
              "  outputElement.innerHTML = '';\n",
              "\n",
              "  const pickedPromise = new Promise((resolve) => {\n",
              "    inputElement.addEventListener('change', (e) => {\n",
              "      resolve(e.target.files);\n",
              "    });\n",
              "  });\n",
              "\n",
              "  const cancel = document.createElement('button');\n",
              "  inputElement.parentElement.appendChild(cancel);\n",
              "  cancel.textContent = 'Cancel upload';\n",
              "  const cancelPromise = new Promise((resolve) => {\n",
              "    cancel.onclick = () => {\n",
              "      resolve(null);\n",
              "    };\n",
              "  });\n",
              "\n",
              "  // Wait for the user to pick the files.\n",
              "  const files = yield {\n",
              "    promise: Promise.race([pickedPromise, cancelPromise]),\n",
              "    response: {\n",
              "      action: 'starting',\n",
              "    }\n",
              "  };\n",
              "\n",
              "  cancel.remove();\n",
              "\n",
              "  // Disable the input element since further picks are not allowed.\n",
              "  inputElement.disabled = true;\n",
              "\n",
              "  if (!files) {\n",
              "    return {\n",
              "      response: {\n",
              "        action: 'complete',\n",
              "      }\n",
              "    };\n",
              "  }\n",
              "\n",
              "  for (const file of files) {\n",
              "    const li = document.createElement('li');\n",
              "    li.append(span(file.name, {fontWeight: 'bold'}));\n",
              "    li.append(span(\n",
              "        `(${file.type || 'n/a'}) - ${file.size} bytes, ` +\n",
              "        `last modified: ${\n",
              "            file.lastModifiedDate ? file.lastModifiedDate.toLocaleDateString() :\n",
              "                                    'n/a'} - `));\n",
              "    const percent = span('0% done');\n",
              "    li.appendChild(percent);\n",
              "\n",
              "    outputElement.appendChild(li);\n",
              "\n",
              "    const fileDataPromise = new Promise((resolve) => {\n",
              "      const reader = new FileReader();\n",
              "      reader.onload = (e) => {\n",
              "        resolve(e.target.result);\n",
              "      };\n",
              "      reader.readAsArrayBuffer(file);\n",
              "    });\n",
              "    // Wait for the data to be ready.\n",
              "    let fileData = yield {\n",
              "      promise: fileDataPromise,\n",
              "      response: {\n",
              "        action: 'continue',\n",
              "      }\n",
              "    };\n",
              "\n",
              "    // Use a chunked sending to avoid message size limits. See b/62115660.\n",
              "    let position = 0;\n",
              "    do {\n",
              "      const length = Math.min(fileData.byteLength - position, MAX_PAYLOAD_SIZE);\n",
              "      const chunk = new Uint8Array(fileData, position, length);\n",
              "      position += length;\n",
              "\n",
              "      const base64 = btoa(String.fromCharCode.apply(null, chunk));\n",
              "      yield {\n",
              "        response: {\n",
              "          action: 'append',\n",
              "          file: file.name,\n",
              "          data: base64,\n",
              "        },\n",
              "      };\n",
              "\n",
              "      let percentDone = fileData.byteLength === 0 ?\n",
              "          100 :\n",
              "          Math.round((position / fileData.byteLength) * 100);\n",
              "      percent.textContent = `${percentDone}% done`;\n",
              "\n",
              "    } while (position < fileData.byteLength);\n",
              "  }\n",
              "\n",
              "  // All done.\n",
              "  yield {\n",
              "    response: {\n",
              "      action: 'complete',\n",
              "    }\n",
              "  };\n",
              "}\n",
              "\n",
              "scope.google = scope.google || {};\n",
              "scope.google.colab = scope.google.colab || {};\n",
              "scope.google.colab._files = {\n",
              "  _uploadFiles,\n",
              "  _uploadFilesContinue,\n",
              "};\n",
              "})(self);\n",
              "</script> "
            ]
          },
          "metadata": {}
        },
        {
          "output_type": "stream",
          "name": "stdout",
          "text": [
            "Saving x_test.csv to x_test.csv\n",
            "Saving xy_train.csv to xy_train.csv\n"
          ]
        }
      ]
    },
    {
      "cell_type": "code",
      "source": [
        "%reload_ext rpy2.ipython"
      ],
      "metadata": {
        "id": "BkmL5VrLvTdS"
      },
      "execution_count": null,
      "outputs": []
    },
    {
      "cell_type": "code",
      "source": [
        "%%R\n",
        "\n",
        "if (!require(\"keras\")) install.packages(\"keras\")\n",
        "if (!require(\"caret\")) install.packages(\"caret\")\n",
        "library(keras)\n",
        "library(caret)"
      ],
      "metadata": {
        "colab": {
          "base_uri": "https://localhost:8080/",
          "height": 1000
        },
        "id": "ZFUybJnnvcXA",
        "outputId": "cff1a1b7-6e0b-4e68-ca3d-56a8e198fdfb"
      },
      "execution_count": null,
      "outputs": [
        {
          "output_type": "stream",
          "name": "stdout",
          "text": [
            "\n",
            "    WARNING: The R package \"reticulate\" only fixed recently\n",
            "    an issue that caused a segfault when used with rpy2:\n",
            "    https://github.com/rstudio/reticulate/pull/1188\n",
            "    Make sure that you use a version of that package that includes\n",
            "    the fix.\n",
            "    "
          ]
        },
        {
          "output_type": "display_data",
          "data": {
            "text/plain": [
              "Loading required package: keras\n",
              "Installing package into ‘/usr/local/lib/R/site-library’\n",
              "(as ‘lib’ is unspecified)\n",
              "also installing the dependencies ‘RcppTOML’, ‘here’, ‘png’, ‘config’, ‘tfautograph’, ‘reticulate’, ‘tensorflow’, ‘tfruns’, ‘zeallot’\n",
              "\n",
              "trying URL 'https://cran.rstudio.com/src/contrib/RcppTOML_0.2.3.tar.gz'\n",
              "trying URL 'https://cran.rstudio.com/src/contrib/here_1.0.1.tar.gz'\n",
              "trying URL 'https://cran.rstudio.com/src/contrib/png_0.1-8.tar.gz'\n",
              "trying URL 'https://cran.rstudio.com/src/contrib/config_0.3.2.tar.gz'\n",
              "trying URL 'https://cran.rstudio.com/src/contrib/tfautograph_0.3.2.tar.gz'\n",
              "trying URL 'https://cran.rstudio.com/src/contrib/reticulate_1.42.0.tar.gz'\n",
              "trying URL 'https://cran.rstudio.com/src/contrib/tensorflow_2.16.0.tar.gz'\n",
              "trying URL 'https://cran.rstudio.com/src/contrib/tfruns_1.5.3.tar.gz'\n",
              "trying URL 'https://cran.rstudio.com/src/contrib/zeallot_0.1.0.tar.gz'\n",
              "trying URL 'https://cran.rstudio.com/src/contrib/keras_2.15.0.tar.gz'\n",
              "\n",
              "The downloaded source packages are in\n",
              "\t‘/tmp/RtmpoMq9IN/downloaded_packages’\n",
              "Loading required package: caret\n",
              "Installing package into ‘/usr/local/lib/R/site-library’\n",
              "(as ‘lib’ is unspecified)\n",
              "also installing the dependencies ‘listenv’, ‘parallelly’, ‘future’, ‘globals’, ‘shape’, ‘future.apply’, ‘numDeriv’, ‘progressr’, ‘SQUAREM’, ‘diagram’, ‘lava’, ‘prodlim’, ‘proxy’, ‘iterators’, ‘clock’, ‘gower’, ‘hardhat’, ‘ipred’, ‘sparsevctrs’, ‘timeDate’, ‘e1071’, ‘foreach’, ‘ModelMetrics’, ‘plyr’, ‘pROC’, ‘recipes’, ‘reshape2’\n",
              "\n",
              "trying URL 'https://cran.rstudio.com/src/contrib/listenv_0.9.1.tar.gz'\n",
              "trying URL 'https://cran.rstudio.com/src/contrib/parallelly_1.44.0.tar.gz'\n",
              "trying URL 'https://cran.rstudio.com/src/contrib/future_1.49.0.tar.gz'\n",
              "trying URL 'https://cran.rstudio.com/src/contrib/globals_0.18.0.tar.gz'\n",
              "trying URL 'https://cran.rstudio.com/src/contrib/shape_1.4.6.1.tar.gz'\n",
              "trying URL 'https://cran.rstudio.com/src/contrib/future.apply_1.11.3.tar.gz'\n",
              "trying URL 'https://cran.rstudio.com/src/contrib/numDeriv_2016.8-1.1.tar.gz'\n",
              "trying URL 'https://cran.rstudio.com/src/contrib/progressr_0.15.1.tar.gz'\n",
              "trying URL 'https://cran.rstudio.com/src/contrib/SQUAREM_2021.1.tar.gz'\n",
              "trying URL 'https://cran.rstudio.com/src/contrib/diagram_1.6.5.tar.gz'\n",
              "trying URL 'https://cran.rstudio.com/src/contrib/lava_1.8.1.tar.gz'\n",
              "trying URL 'https://cran.rstudio.com/src/contrib/prodlim_2025.04.28.tar.gz'\n",
              "trying URL 'https://cran.rstudio.com/src/contrib/proxy_0.4-27.tar.gz'\n",
              "trying URL 'https://cran.rstudio.com/src/contrib/iterators_1.0.14.tar.gz'\n",
              "trying URL 'https://cran.rstudio.com/src/contrib/clock_0.7.3.tar.gz'\n",
              "trying URL 'https://cran.rstudio.com/src/contrib/gower_1.0.2.tar.gz'\n",
              "trying URL 'https://cran.rstudio.com/src/contrib/hardhat_1.4.1.tar.gz'\n",
              "trying URL 'https://cran.rstudio.com/src/contrib/ipred_0.9-15.tar.gz'\n",
              "trying URL 'https://cran.rstudio.com/src/contrib/sparsevctrs_0.3.3.tar.gz'\n",
              "trying URL 'https://cran.rstudio.com/src/contrib/timeDate_4041.110.tar.gz'\n",
              "trying URL 'https://cran.rstudio.com/src/contrib/e1071_1.7-16.tar.gz'\n",
              "trying URL 'https://cran.rstudio.com/src/contrib/foreach_1.5.2.tar.gz'\n",
              "trying URL 'https://cran.rstudio.com/src/contrib/ModelMetrics_1.2.2.2.tar.gz'\n",
              "trying URL 'https://cran.rstudio.com/src/contrib/plyr_1.8.9.tar.gz'\n",
              "trying URL 'https://cran.rstudio.com/src/contrib/pROC_1.18.5.tar.gz'\n",
              "trying URL 'https://cran.rstudio.com/src/contrib/recipes_1.3.0.tar.gz'\n",
              "trying URL 'https://cran.rstudio.com/src/contrib/reshape2_1.4.4.tar.gz'\n",
              "trying URL 'https://cran.rstudio.com/src/contrib/caret_7.0-1.tar.gz'\n",
              "\n",
              "The downloaded source packages are in\n",
              "\t‘/tmp/RtmpoMq9IN/downloaded_packages’\n",
              "Loading required package: ggplot2\n",
              "Loading required package: lattice\n",
              "In addition: Warning messages:\n",
              "1: In library(package, lib.loc = lib.loc, character.only = TRUE, logical.return = TRUE,  :\n",
              "  there is no package called ‘keras’\n",
              "2: In library(package, lib.loc = lib.loc, character.only = TRUE, logical.return = TRUE,  :\n",
              "  there is no package called ‘caret’\n"
            ]
          },
          "metadata": {}
        }
      ]
    },
    {
      "cell_type": "code",
      "source": [
        "%%R\n",
        "raw <- read.csv(\"x_test.csv\")\n",
        "dim(raw)"
      ],
      "metadata": {
        "colab": {
          "base_uri": "https://localhost:8080/"
        },
        "id": "MBRCz7R8YtmM",
        "outputId": "db022e13-033e-4b04-d3b5-522f2e843d0a"
      },
      "execution_count": null,
      "outputs": [
        {
          "output_type": "stream",
          "name": "stdout",
          "text": [
            "[1] 9999  785\n"
          ]
        }
      ]
    },
    {
      "cell_type": "code",
      "source": [
        "%%R\n",
        "\n",
        "# Load and preprocess data\n",
        "xy_train <- read.csv(\"xy_train.csv\", header = FALSE)\n",
        "x_test <- read.csv(\"x_test.csv\", header = FALSE)\n",
        "\n",
        "y_train <- as.factor(xy_train[, 1])\n",
        "X_train_full <- as.matrix(xy_train[, -1])\n",
        "X_test <- as.matrix(x_test[, -1])\n",
        "\n",
        "# Normalize\n",
        "X_train_full <- apply(X_train_full, 2, as.numeric) / 255\n",
        "X_test <- apply(X_test, 2, as.numeric) / 255\n",
        "\n",
        "# Labels: A-F → 0-5\n",
        "y_train <- factor(y_train, levels = c(\"A\", \"B\", \"C\", \"D\", \"E\", \"F\"))\n",
        "y_train_numerical <- as.integer(y_train) - 1\n"
      ],
      "metadata": {
        "id": "JmO4omWZ2K3N"
      },
      "execution_count": null,
      "outputs": []
    },
    {
      "cell_type": "code",
      "source": [
        "%%R\n",
        "\n",
        "dim(x_test)"
      ],
      "metadata": {
        "colab": {
          "base_uri": "https://localhost:8080/"
        },
        "id": "PpL4rnRE9BLO",
        "outputId": "792933f0-eb0a-4002-9a5c-e56e7e476e37"
      },
      "execution_count": null,
      "outputs": [
        {
          "output_type": "stream",
          "name": "stdout",
          "text": [
            "[1] 10000   785\n"
          ]
        }
      ]
    },
    {
      "cell_type": "code",
      "source": [
        "%%R\n",
        "\n",
        "# One-hot encoding\n",
        "num_classes <- 6\n",
        "y_train_encoded_full <- matrix(0, nrow = length(y_train_numerical), ncol = num_classes)\n",
        "for (i in 1:length(y_train_numerical)) {\n",
        "  y_train_encoded_full[i, y_train_numerical[i] + 1] <- 1\n",
        "}\n"
      ],
      "metadata": {
        "id": "vY3Ojpe32PBf"
      },
      "execution_count": null,
      "outputs": []
    },
    {
      "cell_type": "code",
      "source": [
        "%%R\n",
        "\n",
        "# Resize and replicate grayscale channels for pretrained model\n",
        "resize_dim <- 96\n",
        "\n",
        "reshape_rgb <- function(data) {\n",
        "  n <- nrow(data)\n",
        "  data <- array_reshape(data, c(n, 28, 28, 1))\n",
        "  data <- array(rep(data, 3), dim = c(n, 28, 28, 3))  # grayscale → RGB\n",
        "  data_resized <- array(0, dim = c(n, resize_dim, resize_dim, 3))\n",
        "  for (i in 1:n) {\n",
        "    img <- image_array_resize(data[i,,,], height = resize_dim, width = resize_dim)\n",
        "    data_resized[i,,,] <- img\n",
        "  }\n",
        "  return(data_resized)\n",
        "}\n"
      ],
      "metadata": {
        "id": "uiobkhEq2U-U"
      },
      "execution_count": null,
      "outputs": []
    },
    {
      "cell_type": "code",
      "source": [
        "%%R\n",
        "\n",
        "# Split and reshape\n",
        "set.seed(42)\n",
        "train_index <- createDataPartition(y_train_numerical, p = 0.8, list = FALSE)\n",
        "\n",
        "X_train <- reshape_rgb(X_train_full[train_index, ])\n",
        "X_val <- reshape_rgb(X_train_full[-train_index, ])\n",
        "X_test <- reshape_rgb(X_test)\n",
        "\n",
        "y_train_encoded <- y_train_encoded_full[train_index, ]\n",
        "y_val_encoded <- y_train_encoded_full[-train_index, ]\n"
      ],
      "metadata": {
        "id": "-gSDZ2xy2bkk"
      },
      "execution_count": null,
      "outputs": []
    },
    {
      "cell_type": "code",
      "source": [
        "%%R\n",
        "\n",
        "print(dim(X_test))"
      ],
      "metadata": {
        "colab": {
          "base_uri": "https://localhost:8080/"
        },
        "id": "Cv6T9cvs4Q_2",
        "outputId": "6ed47e2d-070c-4017-94b8-35ff960b8fcd"
      },
      "execution_count": null,
      "outputs": [
        {
          "output_type": "stream",
          "name": "stdout",
          "text": [
            "[1] 10000    96    96     3\n"
          ]
        }
      ]
    },
    {
      "cell_type": "code",
      "source": [
        "%%R\n",
        "\n",
        "# Transfer Learning: MobileNetV2\n",
        "base_model <- application_mobilenet_v2(\n",
        "  include_top = FALSE,\n",
        "  weights = \"imagenet\",\n",
        "  input_shape = c(resize_dim, resize_dim, 3)\n",
        ")\n",
        "\n",
        "freeze_weights(base_model)  # Freeze convolutional base\n",
        "\n",
        "# Build new model\n",
        "input <- layer_input(shape = c(resize_dim, resize_dim, 3))\n",
        "output <- input |>\n",
        "  base_model() |>\n",
        "  layer_global_average_pooling_2d() |>\n",
        "  layer_dropout(rate = 0.5) |>\n",
        "  layer_dense(units = 128, activation = \"relu\") |>\n",
        "  layer_dense(units = num_classes, activation = \"softmax\")\n",
        "\n",
        "model <- keras_model(inputs = input, outputs = output)\n"
      ],
      "metadata": {
        "id": "Bwod9vRh2eGW",
        "colab": {
          "base_uri": "https://localhost:8080/"
        },
        "outputId": "1f5e26db-ef52-4123-ccff-b8236492f9db"
      },
      "execution_count": null,
      "outputs": [
        {
          "output_type": "stream",
          "name": "stdout",
          "text": [
            "Downloading data from https://storage.googleapis.com/tensorflow/keras-applications/mobilenet_v2/mobilenet_v2_weights_tf_dim_ordering_tf_kernels_1.0_96_no_top.h5\n",
            "\u001b[1m9406464/9406464\u001b[0m \u001b[32m━━━━━━━━━━━━━━━━━━━━\u001b[0m\u001b[37m\u001b[0m \u001b[1m0s\u001b[0m 0us/step\n"
          ]
        }
      ]
    },
    {
      "cell_type": "code",
      "source": [
        "%%R\n",
        "\n",
        "# Compile and train\n",
        "model$compile(\n",
        "  optimizer = \"adam\",\n",
        "  loss = \"categorical_crossentropy\",\n",
        "  metrics = list(\"accuracy\")\n",
        ")\n",
        "\n",
        "summary(model)\n",
        "\n",
        "history <- model$fit(\n",
        "  x = X_train,\n",
        "  y = y_train_encoded,\n",
        "  epochs = 20L,\n",
        "  batch_size = 32L,\n",
        "  validation_data = list(X_val, y_val_encoded)\n",
        ")"
      ],
      "metadata": {
        "colab": {
          "base_uri": "https://localhost:8080/"
        },
        "id": "ntAC76k03FTs",
        "outputId": "9412f1cb-782a-4859-e76e-4327fbf25a7c"
      },
      "execution_count": null,
      "outputs": [
        {
          "output_type": "stream",
          "name": "stdout",
          "text": [
            "<Functional name=functional, built=True>\n",
            "Epoch 1/20\n",
            "\u001b[1m13/13\u001b[0m \u001b[32m━━━━━━━━━━━━━━━━━━━━\u001b[0m\u001b[37m\u001b[0m \u001b[1m8s\u001b[0m 157ms/step - accuracy: 0.3257 - loss: 1.9371\n",
            "\u001b[1m13/13\u001b[0m \u001b[32m━━━━━━━━━━━━━━━━━━━━\u001b[0m\u001b[37m\u001b[0m \u001b[1m10s\u001b[0m 399ms/step - accuracy: 0.3347 - loss: 1.9024 - val_accuracy: 0.7475 - val_loss: 0.5137\n",
            "Epoch 2/20\n",
            "\u001b[1m13/13\u001b[0m \u001b[32m━━━━━━━━━━━━━━━━━━━━\u001b[0m\u001b[37m\u001b[0m \u001b[1m3s\u001b[0m 191ms/step - accuracy: 0.7159 - loss: 0.6004\n",
            "\u001b[1m13/13\u001b[0m \u001b[32m━━━━━━━━━━━━━━━━━━━━\u001b[0m\u001b[37m\u001b[0m \u001b[1m3s\u001b[0m 240ms/step - accuracy: 0.7162 - loss: 0.5997 - val_accuracy: 0.7576 - val_loss: 0.4797\n",
            "Epoch 3/20\n",
            "\u001b[1m13/13\u001b[0m \u001b[32m━━━━━━━━━━━━━━━━━━━━\u001b[0m\u001b[37m\u001b[0m \u001b[1m4s\u001b[0m 163ms/step - accuracy: 0.7595 - loss: 0.5333\n",
            "\u001b[1m13/13\u001b[0m \u001b[32m━━━━━━━━━━━━━━━━━━━━\u001b[0m\u001b[37m\u001b[0m \u001b[1m5s\u001b[0m 219ms/step - accuracy: 0.7589 - loss: 0.5326 - val_accuracy: 0.8485 - val_loss: 0.3576\n",
            "Epoch 4/20\n",
            "\u001b[1m13/13\u001b[0m \u001b[32m━━━━━━━━━━━━━━━━━━━━\u001b[0m\u001b[37m\u001b[0m \u001b[1m2s\u001b[0m 162ms/step - accuracy: 0.7972 - loss: 0.4138\n",
            "\u001b[1m13/13\u001b[0m \u001b[32m━━━━━━━━━━━━━━━━━━━━\u001b[0m\u001b[37m\u001b[0m \u001b[1m3s\u001b[0m 218ms/step - accuracy: 0.7983 - loss: 0.4124 - val_accuracy: 0.8586 - val_loss: 0.3465\n",
            "Epoch 5/20\n",
            "\u001b[1m13/13\u001b[0m \u001b[32m━━━━━━━━━━━━━━━━━━━━\u001b[0m\u001b[37m\u001b[0m \u001b[1m3s\u001b[0m 255ms/step - accuracy: 0.8286 - loss: 0.3878\n",
            "\u001b[1m13/13\u001b[0m \u001b[32m━━━━━━━━━━━━━━━━━━━━\u001b[0m\u001b[37m\u001b[0m \u001b[1m4s\u001b[0m 311ms/step - accuracy: 0.8296 - loss: 0.3859 - val_accuracy: 0.8788 - val_loss: 0.3163\n",
            "Epoch 6/20\n",
            "\u001b[1m13/13\u001b[0m \u001b[32m━━━━━━━━━━━━━━━━━━━━\u001b[0m\u001b[37m\u001b[0m \u001b[1m2s\u001b[0m 160ms/step - accuracy: 0.8412 - loss: 0.3588\n",
            "\u001b[1m13/13\u001b[0m \u001b[32m━━━━━━━━━━━━━━━━━━━━\u001b[0m\u001b[37m\u001b[0m \u001b[1m3s\u001b[0m 208ms/step - accuracy: 0.8411 - loss: 0.3586 - val_accuracy: 0.8283 - val_loss: 0.3254\n",
            "Epoch 7/20\n",
            "\u001b[1m13/13\u001b[0m \u001b[32m━━━━━━━━━━━━━━━━━━━━\u001b[0m\u001b[37m\u001b[0m \u001b[1m5s\u001b[0m 162ms/step - accuracy: 0.8438 - loss: 0.3276\n",
            "\u001b[1m13/13\u001b[0m \u001b[32m━━━━━━━━━━━━━━━━━━━━\u001b[0m\u001b[37m\u001b[0m \u001b[1m5s\u001b[0m 209ms/step - accuracy: 0.8455 - loss: 0.3264 - val_accuracy: 0.9293 - val_loss: 0.2785\n",
            "Epoch 8/20\n",
            "\u001b[1m13/13\u001b[0m \u001b[32m━━━━━━━━━━━━━━━━━━━━\u001b[0m\u001b[37m\u001b[0m \u001b[1m5s\u001b[0m 181ms/step - accuracy: 0.8782 - loss: 0.2949\n",
            "\u001b[1m13/13\u001b[0m \u001b[32m━━━━━━━━━━━━━━━━━━━━\u001b[0m\u001b[37m\u001b[0m \u001b[1m5s\u001b[0m 231ms/step - accuracy: 0.8791 - loss: 0.2943 - val_accuracy: 0.8788 - val_loss: 0.2720\n",
            "Epoch 9/20\n",
            "\u001b[1m13/13\u001b[0m \u001b[32m━━━━━━━━━━━━━━━━━━━━\u001b[0m\u001b[37m\u001b[0m \u001b[1m4s\u001b[0m 166ms/step - accuracy: 0.9197 - loss: 0.2197\n",
            "\u001b[1m13/13\u001b[0m \u001b[32m━━━━━━━━━━━━━━━━━━━━\u001b[0m\u001b[37m\u001b[0m \u001b[1m5s\u001b[0m 222ms/step - accuracy: 0.9188 - loss: 0.2211 - val_accuracy: 0.8990 - val_loss: 0.2697\n",
            "Epoch 10/20\n",
            "\u001b[1m13/13\u001b[0m \u001b[32m━━━━━━━━━━━━━━━━━━━━\u001b[0m\u001b[37m\u001b[0m \u001b[1m5s\u001b[0m 253ms/step - accuracy: 0.9037 - loss: 0.2139\n",
            "\u001b[1m13/13\u001b[0m \u001b[32m━━━━━━━━━━━━━━━━━━━━\u001b[0m\u001b[37m\u001b[0m \u001b[1m6s\u001b[0m 304ms/step - accuracy: 0.9038 - loss: 0.2151 - val_accuracy: 0.8687 - val_loss: 0.2644\n",
            "Epoch 11/20\n",
            "\u001b[1m13/13\u001b[0m \u001b[32m━━━━━━━━━━━━━━━━━━━━\u001b[0m\u001b[37m\u001b[0m \u001b[1m3s\u001b[0m 164ms/step - accuracy: 0.9142 - loss: 0.2089\n",
            "\u001b[1m13/13\u001b[0m \u001b[32m━━━━━━━━━━━━━━━━━━━━\u001b[0m\u001b[37m\u001b[0m \u001b[1m4s\u001b[0m 219ms/step - accuracy: 0.9134 - loss: 0.2107 - val_accuracy: 0.8687 - val_loss: 0.2945\n",
            "Epoch 12/20\n",
            "\u001b[1m13/13\u001b[0m \u001b[32m━━━━━━━━━━━━━━━━━━━━\u001b[0m\u001b[37m\u001b[0m \u001b[1m2s\u001b[0m 163ms/step - accuracy: 0.9004 - loss: 0.2177\n",
            "\u001b[1m13/13\u001b[0m \u001b[32m━━━━━━━━━━━━━━━━━━━━\u001b[0m\u001b[37m\u001b[0m \u001b[1m3s\u001b[0m 218ms/step - accuracy: 0.9001 - loss: 0.2190 - val_accuracy: 0.8788 - val_loss: 0.2646\n",
            "Epoch 13/20\n",
            "\u001b[1m13/13\u001b[0m \u001b[32m━━━━━━━━━━━━━━━━━━━━\u001b[0m\u001b[37m\u001b[0m \u001b[1m2s\u001b[0m 164ms/step - accuracy: 0.9085 - loss: 0.2284\n",
            "\u001b[1m13/13\u001b[0m \u001b[32m━━━━━━━━━━━━━━━━━━━━\u001b[0m\u001b[37m\u001b[0m \u001b[1m3s\u001b[0m 273ms/step - accuracy: 0.9081 - loss: 0.2293 - val_accuracy: 0.8990 - val_loss: 0.2723\n",
            "Epoch 14/20\n",
            "\u001b[1m13/13\u001b[0m \u001b[32m━━━━━━━━━━━━━━━━━━━━\u001b[0m\u001b[37m\u001b[0m \u001b[1m4s\u001b[0m 162ms/step - accuracy: 0.9219 - loss: 0.2144\n",
            "\u001b[1m13/13\u001b[0m \u001b[32m━━━━━━━━━━━━━━━━━━━━\u001b[0m\u001b[37m\u001b[0m \u001b[1m4s\u001b[0m 217ms/step - accuracy: 0.9212 - loss: 0.2139 - val_accuracy: 0.8687 - val_loss: 0.3233\n",
            "Epoch 15/20\n",
            "\u001b[1m13/13\u001b[0m \u001b[32m━━━━━━━━━━━━━━━━━━━━\u001b[0m\u001b[37m\u001b[0m \u001b[1m4s\u001b[0m 165ms/step - accuracy: 0.9031 - loss: 0.2172\n",
            "\u001b[1m13/13\u001b[0m \u001b[32m━━━━━━━━━━━━━━━━━━━━\u001b[0m\u001b[37m\u001b[0m \u001b[1m5s\u001b[0m 220ms/step - accuracy: 0.9026 - loss: 0.2189 - val_accuracy: 0.8182 - val_loss: 0.4067\n",
            "Epoch 16/20\n",
            "\u001b[1m13/13\u001b[0m \u001b[32m━━━━━━━━━━━━━━━━━━━━\u001b[0m\u001b[37m\u001b[0m \u001b[1m5s\u001b[0m 188ms/step - accuracy: 0.8790 - loss: 0.2469\n",
            "\u001b[1m13/13\u001b[0m \u001b[32m━━━━━━━━━━━━━━━━━━━━\u001b[0m\u001b[37m\u001b[0m \u001b[1m5s\u001b[0m 243ms/step - accuracy: 0.8798 - loss: 0.2450 - val_accuracy: 0.8990 - val_loss: 0.2580\n",
            "Epoch 17/20\n",
            "\u001b[1m13/13\u001b[0m \u001b[32m━━━━━━━━━━━━━━━━━━━━\u001b[0m\u001b[37m\u001b[0m \u001b[1m2s\u001b[0m 164ms/step - accuracy: 0.9084 - loss: 0.2188\n",
            "\u001b[1m13/13\u001b[0m \u001b[32m━━━━━━━━━━━━━━━━━━━━\u001b[0m\u001b[37m\u001b[0m \u001b[1m3s\u001b[0m 211ms/step - accuracy: 0.9083 - loss: 0.2188 - val_accuracy: 0.9192 - val_loss: 0.2400\n",
            "Epoch 18/20\n",
            "\u001b[1m13/13\u001b[0m \u001b[32m━━━━━━━━━━━━━━━━━━━━\u001b[0m\u001b[37m\u001b[0m \u001b[1m2s\u001b[0m 164ms/step - accuracy: 0.9091 - loss: 0.2054\n",
            "\u001b[1m13/13\u001b[0m \u001b[32m━━━━━━━━━━━━━━━━━━━━\u001b[0m\u001b[37m\u001b[0m \u001b[1m3s\u001b[0m 212ms/step - accuracy: 0.9094 - loss: 0.2050 - val_accuracy: 0.8990 - val_loss: 0.2599\n",
            "Epoch 19/20\n",
            "\u001b[1m13/13\u001b[0m \u001b[32m━━━━━━━━━━━━━━━━━━━━\u001b[0m\u001b[37m\u001b[0m \u001b[1m2s\u001b[0m 163ms/step - accuracy: 0.9318 - loss: 0.1884\n",
            "\u001b[1m13/13\u001b[0m \u001b[32m━━━━━━━━━━━━━━━━━━━━\u001b[0m\u001b[37m\u001b[0m \u001b[1m3s\u001b[0m 236ms/step - accuracy: 0.9321 - loss: 0.1888 - val_accuracy: 0.8889 - val_loss: 0.3123\n",
            "Epoch 20/20\n",
            "\u001b[1m13/13\u001b[0m \u001b[32m━━━━━━━━━━━━━━━━━━━━\u001b[0m\u001b[37m\u001b[0m \u001b[1m4s\u001b[0m 164ms/step - accuracy: 0.9029 - loss: 0.2051\n",
            "\u001b[1m13/13\u001b[0m \u001b[32m━━━━━━━━━━━━━━━━━━━━\u001b[0m\u001b[37m\u001b[0m \u001b[1m5s\u001b[0m 213ms/step - accuracy: 0.9032 - loss: 0.2059 - val_accuracy: 0.8788 - val_loss: 0.2826\n"
          ]
        }
      ]
    },
    {
      "cell_type": "code",
      "source": [
        "%%R\n",
        "\n",
        "# Confusion Matrix\n",
        "val_predictions <- model$predict(X_val)\n",
        "predicted_val_labels <- apply(val_predictions, 1, which.max) - 1\n",
        "actual_val_labels <- apply(y_val_encoded, 1, which.max) - 1\n",
        "\n",
        "label_map <- c(\"A\", \"B\", \"C\", \"D\", \"E\", \"F\")\n",
        "predicted_letters <- label_map[predicted_val_labels + 1]\n",
        "actual_letters <- label_map[actual_val_labels + 1]\n",
        "\n",
        "confusion <- table(Predicted = predicted_letters, Actual = actual_letters)\n",
        "print(confusion)\n",
        "confusionMatrix(confusion)"
      ],
      "metadata": {
        "colab": {
          "base_uri": "https://localhost:8080/"
        },
        "id": "WEGOElvs2gHZ",
        "outputId": "42afb7cf-8c0a-4a8e-eb2b-136961fea630"
      },
      "execution_count": null,
      "outputs": [
        {
          "output_type": "stream",
          "name": "stdout",
          "text": [
            "\u001b[1m4/4\u001b[0m \u001b[32m━━━━━━━━━━━━━━━━━━━━\u001b[0m\u001b[37m\u001b[0m \u001b[1m4s\u001b[0m 723ms/step\n",
            "\u001b[1m4/4\u001b[0m \u001b[32m━━━━━━━━━━━━━━━━━━━━\u001b[0m\u001b[37m\u001b[0m \u001b[1m4s\u001b[0m 730ms/step\n",
            "         Actual\n",
            "Predicted  A  B  C  D  E  F\n",
            "        A 11  0  0  0  0  0\n",
            "        B  1 23  0  0  0  0\n",
            "        C  0  0 15  4  0  0\n",
            "        D  0  0  1 12  0  0\n",
            "        E  0  0  0  0 16  5\n",
            "        F  0  0  0  0  1 10\n",
            "Confusion Matrix and Statistics\n",
            "\n",
            "         Actual\n",
            "Predicted  A  B  C  D  E  F\n",
            "        A 11  0  0  0  0  0\n",
            "        B  1 23  0  0  0  0\n",
            "        C  0  0 15  4  0  0\n",
            "        D  0  0  1 12  0  0\n",
            "        E  0  0  0  0 16  5\n",
            "        F  0  0  0  0  1 10\n",
            "\n",
            "Overall Statistics\n",
            "                                          \n",
            "               Accuracy : 0.8788          \n",
            "                 95% CI : (0.7978, 0.9358)\n",
            "    No Information Rate : 0.2323          \n",
            "    P-Value [Acc > NIR] : < 2.2e-16       \n",
            "                                          \n",
            "                  Kappa : 0.853           \n",
            "                                          \n",
            " Mcnemar's Test P-Value : NA              \n",
            "\n",
            "Statistics by Class:\n",
            "\n",
            "                     Class: A Class: B Class: C Class: D Class: E Class: F\n",
            "Sensitivity            0.9167   1.0000   0.9375   0.7500   0.9412   0.6667\n",
            "Specificity            1.0000   0.9868   0.9518   0.9880   0.9390   0.9881\n",
            "Pos Pred Value         1.0000   0.9583   0.7895   0.9231   0.7619   0.9091\n",
            "Neg Pred Value         0.9886   1.0000   0.9875   0.9535   0.9872   0.9432\n",
            "Prevalence             0.1212   0.2323   0.1616   0.1616   0.1717   0.1515\n",
            "Detection Rate         0.1111   0.2323   0.1515   0.1212   0.1616   0.1010\n",
            "Detection Prevalence   0.1111   0.2424   0.1919   0.1313   0.2121   0.1111\n",
            "Balanced Accuracy      0.9583   0.9934   0.9447   0.8690   0.9401   0.8274\n"
          ]
        }
      ]
    },
    {
      "cell_type": "code",
      "source": [
        "%%R\n",
        "\n",
        "# Read raw test data (keep the NAs in the first column)\n",
        "x_test_raw <- read.csv(\"x_test.csv\", header = FALSE)\n",
        "\n",
        "# Predict on reshaped X_test\n",
        "test_predictions <- model$predict(X_test)\n",
        "predicted_indices <- apply(test_predictions, 1, which.max) - 1\n",
        "label_map <- c(\"A\", \"B\", \"C\", \"D\", \"E\", \"F\")\n",
        "predicted_letters <- label_map[predicted_indices + 1]"
      ],
      "metadata": {
        "colab": {
          "base_uri": "https://localhost:8080/"
        },
        "id": "TtrX8NCq5H3Z",
        "outputId": "2088c4ea-3746-451f-f9c0-d79940a29324"
      },
      "execution_count": null,
      "outputs": [
        {
          "output_type": "stream",
          "name": "stdout",
          "text": [
            "\u001b[1m313/313\u001b[0m \u001b[32m━━━━━━━━━━━━━━━━━━━━\u001b[0m\u001b[37m\u001b[0m \u001b[1m59s\u001b[0m 189ms/step\n",
            "\u001b[1m313/313\u001b[0m \u001b[32m━━━━━━━━━━━━━━━━━━━━\u001b[0m\u001b[37m\u001b[0m \u001b[1m59s\u001b[0m 189ms/step\n"
          ]
        }
      ]
    },
    {
      "cell_type": "code",
      "source": [
        "%%R\n",
        "\n",
        "length(predicted_letters)"
      ],
      "metadata": {
        "colab": {
          "base_uri": "https://localhost:8080/"
        },
        "id": "C3Feg-QqA6RA",
        "outputId": "17377750-d489-4abf-8335-d8b38b3ace07"
      },
      "execution_count": null,
      "outputs": [
        {
          "output_type": "stream",
          "name": "stdout",
          "text": [
            "[1] 10000\n"
          ]
        }
      ]
    },
    {
      "cell_type": "code",
      "source": [
        "%%R\n",
        "\n",
        "dim(x_test_raw)\n",
        "# dim(predicted_letters)"
      ],
      "metadata": {
        "colab": {
          "base_uri": "https://localhost:8080/"
        },
        "id": "GqpGnIL28GP0",
        "outputId": "21d0165d-f843-4976-c35a-db8b9d43e60e"
      },
      "execution_count": null,
      "outputs": [
        {
          "output_type": "stream",
          "name": "stdout",
          "text": [
            "[1] 10000   785\n"
          ]
        }
      ]
    },
    {
      "cell_type": "code",
      "source": [
        "%%R\n",
        "\n",
        "# Replace first column with predictions\n",
        "x_test_raw[, 1] <- predicted_letters\n",
        "\n",
        "# Save to CSV\n",
        "write.table(x_test_raw, file = \"test_predictions_final.csv\", sep = \",\",\n",
        "            row.names = FALSE, col.names = FALSE, quote = FALSE)\n",
        "\n",
        "# Confirm shape again (optional)\n",
        "dim(x_test_raw)  # [1] 10000 785"
      ],
      "metadata": {
        "colab": {
          "base_uri": "https://localhost:8080/"
        },
        "id": "7xyEKSdR7-Ox",
        "outputId": "c6b9b4f3-8732-4185-cf24-d4ad2a3c9105"
      },
      "execution_count": null,
      "outputs": [
        {
          "output_type": "stream",
          "name": "stdout",
          "text": [
            "[1] 10000   785\n"
          ]
        }
      ]
    },
    {
      "cell_type": "code",
      "source": [
        "from google.colab import files\n",
        "files.download('test_predictions_final.csv')"
      ],
      "metadata": {
        "colab": {
          "base_uri": "https://localhost:8080/",
          "height": 17
        },
        "id": "smgzYXZX6MO3",
        "outputId": "f602f1c1-1088-4a59-af1e-8c4dbff687e1"
      },
      "execution_count": null,
      "outputs": [
        {
          "output_type": "display_data",
          "data": {
            "text/plain": [
              "<IPython.core.display.Javascript object>"
            ],
            "application/javascript": [
              "\n",
              "    async function download(id, filename, size) {\n",
              "      if (!google.colab.kernel.accessAllowed) {\n",
              "        return;\n",
              "      }\n",
              "      const div = document.createElement('div');\n",
              "      const label = document.createElement('label');\n",
              "      label.textContent = `Downloading \"${filename}\": `;\n",
              "      div.appendChild(label);\n",
              "      const progress = document.createElement('progress');\n",
              "      progress.max = size;\n",
              "      div.appendChild(progress);\n",
              "      document.body.appendChild(div);\n",
              "\n",
              "      const buffers = [];\n",
              "      let downloaded = 0;\n",
              "\n",
              "      const channel = await google.colab.kernel.comms.open(id);\n",
              "      // Send a message to notify the kernel that we're ready.\n",
              "      channel.send({})\n",
              "\n",
              "      for await (const message of channel.messages) {\n",
              "        // Send a message to notify the kernel that we're ready.\n",
              "        channel.send({})\n",
              "        if (message.buffers) {\n",
              "          for (const buffer of message.buffers) {\n",
              "            buffers.push(buffer);\n",
              "            downloaded += buffer.byteLength;\n",
              "            progress.value = downloaded;\n",
              "          }\n",
              "        }\n",
              "      }\n",
              "      const blob = new Blob(buffers, {type: 'application/binary'});\n",
              "      const a = document.createElement('a');\n",
              "      a.href = window.URL.createObjectURL(blob);\n",
              "      a.download = filename;\n",
              "      div.appendChild(a);\n",
              "      a.click();\n",
              "      div.remove();\n",
              "    }\n",
              "  "
            ]
          },
          "metadata": {}
        },
        {
          "output_type": "display_data",
          "data": {
            "text/plain": [
              "<IPython.core.display.Javascript object>"
            ],
            "application/javascript": [
              "download(\"download_a33cd5d5-cdf3-4f8c-a6c8-550a0461ef51\", \"test_predictions_final.csv\", 21039220)"
            ]
          },
          "metadata": {}
        }
      ]
    },
    {
      "cell_type": "code",
      "source": [
        "%%R\n",
        "\n",
        "dim(output_with_labels)\n",
        "\n",
        "test <- read.csv(\"test_predictions.csv\", header = FALSE)\n",
        "dim(test)"
      ],
      "metadata": {
        "colab": {
          "base_uri": "https://localhost:8080/",
          "height": 546
        },
        "id": "1cxlOvbj6hQQ",
        "outputId": "be96e769-6ed7-4d1f-cf12-8d0332c7175e"
      },
      "execution_count": null,
      "outputs": [
        {
          "output_type": "stream",
          "name": "stdout",
          "text": [
            "Error in (function (expr, envir = parent.frame(), enclos = if (is.list(envir) ||  : \n",
            "  object 'output_with_labels' not found\n"
          ]
        },
        {
          "output_type": "error",
          "ename": "RInterpreterError",
          "evalue": "Failed to parse and evaluate line '\\ndim(output_with_labels)\\n\\ntest <- read.csv(\"test_predictions.csv\", header = FALSE)\\ndim(test)\\n'.\nR error message: \"Error in (function (expr, envir = parent.frame(), enclos = if (is.list(envir) ||  : \\n  object 'output_with_labels' not found\"",
          "traceback": [
            "\u001b[0;31m---------------------------------------------------------------------------\u001b[0m",
            "\u001b[0;31mRRuntimeError\u001b[0m                             Traceback (most recent call last)",
            "\u001b[0;32m/usr/local/lib/python3.11/dist-packages/rpy2/ipython/rmagic.py\u001b[0m in \u001b[0;36meval\u001b[0;34m(self, code)\u001b[0m\n\u001b[1;32m    406\u001b[0m                 \u001b[0mr_expr\u001b[0m \u001b[0;34m=\u001b[0m \u001b[0mri\u001b[0m\u001b[0;34m.\u001b[0m\u001b[0mparse\u001b[0m\u001b[0;34m(\u001b[0m\u001b[0mcode\u001b[0m\u001b[0;34m)\u001b[0m\u001b[0;34m\u001b[0m\u001b[0;34m\u001b[0m\u001b[0m\n\u001b[0;32m--> 407\u001b[0;31m                 value, visible = ri.evalr_expr_with_visible(\n\u001b[0m\u001b[1;32m    408\u001b[0m                     \u001b[0mr_expr\u001b[0m\u001b[0;34m\u001b[0m\u001b[0;34m\u001b[0m\u001b[0m\n",
            "\u001b[0;32m/usr/local/lib/python3.11/dist-packages/rpy2/rinterface.py\u001b[0m in \u001b[0;36mevalr_expr_with_visible\u001b[0;34m(expr, envir)\u001b[0m\n\u001b[1;32m    193\u001b[0m         \u001b[0;32mif\u001b[0m \u001b[0merror_occured\u001b[0m\u001b[0;34m[\u001b[0m\u001b[0;36m0\u001b[0m\u001b[0;34m]\u001b[0m\u001b[0;34m:\u001b[0m\u001b[0;34m\u001b[0m\u001b[0;34m\u001b[0m\u001b[0m\n\u001b[0;32m--> 194\u001b[0;31m             \u001b[0;32mraise\u001b[0m \u001b[0membedded\u001b[0m\u001b[0;34m.\u001b[0m\u001b[0mRRuntimeError\u001b[0m\u001b[0;34m(\u001b[0m\u001b[0m_rinterface\u001b[0m\u001b[0;34m.\u001b[0m\u001b[0m_geterrmessage\u001b[0m\u001b[0;34m(\u001b[0m\u001b[0;34m)\u001b[0m\u001b[0;34m)\u001b[0m\u001b[0;34m\u001b[0m\u001b[0;34m\u001b[0m\u001b[0m\n\u001b[0m\u001b[1;32m    195\u001b[0m         \u001b[0mres\u001b[0m \u001b[0;34m=\u001b[0m \u001b[0mconversion\u001b[0m\u001b[0;34m.\u001b[0m\u001b[0m_cdata_to_rinterface\u001b[0m\u001b[0;34m(\u001b[0m\u001b[0mr_res\u001b[0m\u001b[0;34m)\u001b[0m\u001b[0;34m\u001b[0m\u001b[0;34m\u001b[0m\u001b[0m\n",
            "\u001b[0;31mRRuntimeError\u001b[0m: Error in (function (expr, envir = parent.frame(), enclos = if (is.list(envir) ||  : \n  object 'output_with_labels' not found\n",
            "\nDuring handling of the above exception, another exception occurred:\n",
            "\u001b[0;31mRInterpreterError\u001b[0m                         Traceback (most recent call last)",
            "\u001b[0;32m<ipython-input-19-4b5a210f3677>\u001b[0m in \u001b[0;36m<cell line: 0>\u001b[0;34m()\u001b[0m\n\u001b[0;32m----> 1\u001b[0;31m \u001b[0mget_ipython\u001b[0m\u001b[0;34m(\u001b[0m\u001b[0;34m)\u001b[0m\u001b[0;34m.\u001b[0m\u001b[0mrun_cell_magic\u001b[0m\u001b[0;34m(\u001b[0m\u001b[0;34m'R'\u001b[0m\u001b[0;34m,\u001b[0m \u001b[0;34m''\u001b[0m\u001b[0;34m,\u001b[0m \u001b[0;34m'\\ndim(output_with_labels)\\n\\ntest <- read.csv(\"test_predictions.csv\", header = FALSE)\\ndim(test)\\n'\u001b[0m\u001b[0;34m)\u001b[0m\u001b[0;34m\u001b[0m\u001b[0;34m\u001b[0m\u001b[0m\n\u001b[0m",
            "\u001b[0;32m/usr/local/lib/python3.11/dist-packages/google/colab/_shell.py\u001b[0m in \u001b[0;36mrun_cell_magic\u001b[0;34m(self, magic_name, line, cell)\u001b[0m\n\u001b[1;32m    356\u001b[0m     \u001b[0;32mif\u001b[0m \u001b[0mline\u001b[0m \u001b[0;32mand\u001b[0m \u001b[0;32mnot\u001b[0m \u001b[0mcell\u001b[0m\u001b[0;34m:\u001b[0m\u001b[0;34m\u001b[0m\u001b[0;34m\u001b[0m\u001b[0m\n\u001b[1;32m    357\u001b[0m       \u001b[0mcell\u001b[0m \u001b[0;34m=\u001b[0m \u001b[0;34m' '\u001b[0m\u001b[0;34m\u001b[0m\u001b[0;34m\u001b[0m\u001b[0m\n\u001b[0;32m--> 358\u001b[0;31m     \u001b[0;32mreturn\u001b[0m \u001b[0msuper\u001b[0m\u001b[0;34m(\u001b[0m\u001b[0;34m)\u001b[0m\u001b[0;34m.\u001b[0m\u001b[0mrun_cell_magic\u001b[0m\u001b[0;34m(\u001b[0m\u001b[0mmagic_name\u001b[0m\u001b[0;34m,\u001b[0m \u001b[0mline\u001b[0m\u001b[0;34m,\u001b[0m \u001b[0mcell\u001b[0m\u001b[0;34m)\u001b[0m\u001b[0;34m\u001b[0m\u001b[0;34m\u001b[0m\u001b[0m\n\u001b[0m\u001b[1;32m    359\u001b[0m \u001b[0;34m\u001b[0m\u001b[0m\n\u001b[1;32m    360\u001b[0m \u001b[0;34m\u001b[0m\u001b[0m\n",
            "\u001b[0;32m/usr/local/lib/python3.11/dist-packages/IPython/core/interactiveshell.py\u001b[0m in \u001b[0;36mrun_cell_magic\u001b[0;34m(self, magic_name, line, cell)\u001b[0m\n\u001b[1;32m   2471\u001b[0m             \u001b[0;32mwith\u001b[0m \u001b[0mself\u001b[0m\u001b[0;34m.\u001b[0m\u001b[0mbuiltin_trap\u001b[0m\u001b[0;34m:\u001b[0m\u001b[0;34m\u001b[0m\u001b[0;34m\u001b[0m\u001b[0m\n\u001b[1;32m   2472\u001b[0m                 \u001b[0margs\u001b[0m \u001b[0;34m=\u001b[0m \u001b[0;34m(\u001b[0m\u001b[0mmagic_arg_s\u001b[0m\u001b[0;34m,\u001b[0m \u001b[0mcell\u001b[0m\u001b[0;34m)\u001b[0m\u001b[0;34m\u001b[0m\u001b[0;34m\u001b[0m\u001b[0m\n\u001b[0;32m-> 2473\u001b[0;31m                 \u001b[0mresult\u001b[0m \u001b[0;34m=\u001b[0m \u001b[0mfn\u001b[0m\u001b[0;34m(\u001b[0m\u001b[0;34m*\u001b[0m\u001b[0margs\u001b[0m\u001b[0;34m,\u001b[0m \u001b[0;34m**\u001b[0m\u001b[0mkwargs\u001b[0m\u001b[0;34m)\u001b[0m\u001b[0;34m\u001b[0m\u001b[0;34m\u001b[0m\u001b[0m\n\u001b[0m\u001b[1;32m   2474\u001b[0m             \u001b[0;32mreturn\u001b[0m \u001b[0mresult\u001b[0m\u001b[0;34m\u001b[0m\u001b[0;34m\u001b[0m\u001b[0m\n\u001b[1;32m   2475\u001b[0m \u001b[0;34m\u001b[0m\u001b[0m\n",
            "\u001b[0;32m<decorator-gen-123>\u001b[0m in \u001b[0;36mR\u001b[0;34m(self, line, cell, local_ns)\u001b[0m\n",
            "\u001b[0;32m/usr/local/lib/python3.11/dist-packages/IPython/core/magic.py\u001b[0m in \u001b[0;36m<lambda>\u001b[0;34m(f, *a, **k)\u001b[0m\n\u001b[1;32m    185\u001b[0m     \u001b[0;31m# but it's overkill for just that one bit of state.\u001b[0m\u001b[0;34m\u001b[0m\u001b[0;34m\u001b[0m\u001b[0m\n\u001b[1;32m    186\u001b[0m     \u001b[0;32mdef\u001b[0m \u001b[0mmagic_deco\u001b[0m\u001b[0;34m(\u001b[0m\u001b[0marg\u001b[0m\u001b[0;34m)\u001b[0m\u001b[0;34m:\u001b[0m\u001b[0;34m\u001b[0m\u001b[0;34m\u001b[0m\u001b[0m\n\u001b[0;32m--> 187\u001b[0;31m         \u001b[0mcall\u001b[0m \u001b[0;34m=\u001b[0m \u001b[0;32mlambda\u001b[0m \u001b[0mf\u001b[0m\u001b[0;34m,\u001b[0m \u001b[0;34m*\u001b[0m\u001b[0ma\u001b[0m\u001b[0;34m,\u001b[0m \u001b[0;34m**\u001b[0m\u001b[0mk\u001b[0m\u001b[0;34m:\u001b[0m \u001b[0mf\u001b[0m\u001b[0;34m(\u001b[0m\u001b[0;34m*\u001b[0m\u001b[0ma\u001b[0m\u001b[0;34m,\u001b[0m \u001b[0;34m**\u001b[0m\u001b[0mk\u001b[0m\u001b[0;34m)\u001b[0m\u001b[0;34m\u001b[0m\u001b[0;34m\u001b[0m\u001b[0m\n\u001b[0m\u001b[1;32m    188\u001b[0m \u001b[0;34m\u001b[0m\u001b[0m\n\u001b[1;32m    189\u001b[0m         \u001b[0;32mif\u001b[0m \u001b[0mcallable\u001b[0m\u001b[0;34m(\u001b[0m\u001b[0marg\u001b[0m\u001b[0;34m)\u001b[0m\u001b[0;34m:\u001b[0m\u001b[0;34m\u001b[0m\u001b[0;34m\u001b[0m\u001b[0m\n",
            "\u001b[0;32m/usr/local/lib/python3.11/dist-packages/rpy2/ipython/rmagic.py\u001b[0m in \u001b[0;36mR\u001b[0;34m(self, line, cell, local_ns)\u001b[0m\n\u001b[1;32m    982\u001b[0m             \u001b[0;32mif\u001b[0m \u001b[0;32mnot\u001b[0m \u001b[0me\u001b[0m\u001b[0;34m.\u001b[0m\u001b[0mstdout\u001b[0m\u001b[0;34m.\u001b[0m\u001b[0mendswith\u001b[0m\u001b[0;34m(\u001b[0m\u001b[0me\u001b[0m\u001b[0;34m.\u001b[0m\u001b[0merr\u001b[0m\u001b[0;34m)\u001b[0m\u001b[0;34m:\u001b[0m\u001b[0;34m\u001b[0m\u001b[0;34m\u001b[0m\u001b[0m\n\u001b[1;32m    983\u001b[0m                 \u001b[0mprint\u001b[0m\u001b[0;34m(\u001b[0m\u001b[0me\u001b[0m\u001b[0;34m.\u001b[0m\u001b[0merr\u001b[0m\u001b[0;34m)\u001b[0m\u001b[0;34m\u001b[0m\u001b[0;34m\u001b[0m\u001b[0m\n\u001b[0;32m--> 984\u001b[0;31m             \u001b[0;32mraise\u001b[0m \u001b[0me\u001b[0m\u001b[0;34m\u001b[0m\u001b[0;34m\u001b[0m\u001b[0m\n\u001b[0m\u001b[1;32m    985\u001b[0m         \u001b[0;32mfinally\u001b[0m\u001b[0;34m:\u001b[0m\u001b[0;34m\u001b[0m\u001b[0;34m\u001b[0m\u001b[0m\n\u001b[1;32m    986\u001b[0m             \u001b[0;32mif\u001b[0m \u001b[0mself\u001b[0m\u001b[0;34m.\u001b[0m\u001b[0mdevice\u001b[0m \u001b[0;32min\u001b[0m \u001b[0mDEVICES_STATIC\u001b[0m\u001b[0;34m:\u001b[0m\u001b[0;34m\u001b[0m\u001b[0;34m\u001b[0m\u001b[0m\n",
            "\u001b[0;32m/usr/local/lib/python3.11/dist-packages/rpy2/ipython/rmagic.py\u001b[0m in \u001b[0;36mR\u001b[0;34m(self, line, cell, local_ns)\u001b[0m\n\u001b[1;32m    947\u001b[0m                     \u001b[0mreturn_output\u001b[0m \u001b[0;34m=\u001b[0m \u001b[0;32mFalse\u001b[0m\u001b[0;34m\u001b[0m\u001b[0;34m\u001b[0m\u001b[0m\n\u001b[1;32m    948\u001b[0m             \u001b[0;32melse\u001b[0m\u001b[0;34m:\u001b[0m\u001b[0;34m\u001b[0m\u001b[0;34m\u001b[0m\u001b[0m\n\u001b[0;32m--> 949\u001b[0;31m                 \u001b[0mtext_result\u001b[0m\u001b[0;34m,\u001b[0m \u001b[0mresult\u001b[0m\u001b[0;34m,\u001b[0m \u001b[0mvisible\u001b[0m \u001b[0;34m=\u001b[0m \u001b[0mself\u001b[0m\u001b[0;34m.\u001b[0m\u001b[0meval\u001b[0m\u001b[0;34m(\u001b[0m\u001b[0mcode\u001b[0m\u001b[0;34m)\u001b[0m\u001b[0;34m\u001b[0m\u001b[0;34m\u001b[0m\u001b[0m\n\u001b[0m\u001b[1;32m    950\u001b[0m                 \u001b[0mtext_output\u001b[0m \u001b[0;34m+=\u001b[0m \u001b[0mtext_result\u001b[0m\u001b[0;34m\u001b[0m\u001b[0;34m\u001b[0m\u001b[0m\n\u001b[1;32m    951\u001b[0m                 \u001b[0;32mif\u001b[0m \u001b[0mvisible\u001b[0m\u001b[0;34m:\u001b[0m\u001b[0;34m\u001b[0m\u001b[0;34m\u001b[0m\u001b[0m\n",
            "\u001b[0;32m/usr/local/lib/python3.11/dist-packages/rpy2/ipython/rmagic.py\u001b[0m in \u001b[0;36meval\u001b[0;34m(self, code)\u001b[0m\n\u001b[1;32m    411\u001b[0m                 \u001b[0;31m# Otherwise next return seems to have copy of error.\u001b[0m\u001b[0;34m\u001b[0m\u001b[0;34m\u001b[0m\u001b[0m\n\u001b[1;32m    412\u001b[0m                 \u001b[0mwarning_or_other_msg\u001b[0m \u001b[0;34m=\u001b[0m \u001b[0mself\u001b[0m\u001b[0;34m.\u001b[0m\u001b[0mflush\u001b[0m\u001b[0;34m(\u001b[0m\u001b[0;34m)\u001b[0m\u001b[0;34m\u001b[0m\u001b[0;34m\u001b[0m\u001b[0m\n\u001b[0;32m--> 413\u001b[0;31m                 raise RInterpreterError(code, str(exception),\n\u001b[0m\u001b[1;32m    414\u001b[0m                                         warning_or_other_msg)\n\u001b[1;32m    415\u001b[0m             \u001b[0;32mfinally\u001b[0m\u001b[0;34m:\u001b[0m\u001b[0;34m\u001b[0m\u001b[0;34m\u001b[0m\u001b[0m\n",
            "\u001b[0;31mRInterpreterError\u001b[0m: Failed to parse and evaluate line '\\ndim(output_with_labels)\\n\\ntest <- read.csv(\"test_predictions.csv\", header = FALSE)\\ndim(test)\\n'.\nR error message: \"Error in (function (expr, envir = parent.frame(), enclos = if (is.list(envir) ||  : \\n  object 'output_with_labels' not found\""
          ]
        }
      ]
    },
    {
      "cell_type": "markdown",
      "source": [
        "Dump"
      ],
      "metadata": {
        "id": "tu7XShfO2R9M"
      }
    },
    {
      "cell_type": "code",
      "execution_count": null,
      "metadata": {
        "id": "5102v3jAvJI_"
      },
      "outputs": [],
      "source": [
        "%%R\n",
        "\n",
        "# -----------------------------\n",
        "# Load and preprocess data\n",
        "# -----------------------------\n",
        "xy_train <- read.csv(\"xy_train.csv\")\n",
        "x_test <- read.csv(\"x_test.csv\")\n",
        "\n",
        "y_train <- as.factor(xy_train[, 1])\n",
        "X_train_full <- as.matrix(xy_train[, -1])\n",
        "X_test <- as.matrix(x_test[, -1])\n",
        "\n",
        "# Normalize\n",
        "X_train_full <- apply(X_train_full, 2, as.numeric) / 255\n",
        "X_test <- apply(X_test, 2, as.numeric) / 255\n",
        "\n",
        "# Labels: A-F → 0-5\n",
        "y_train <- factor(y_train, levels = c(\"A\", \"B\", \"C\", \"D\", \"E\", \"F\"))\n",
        "y_train_numerical <- as.integer(y_train) - 1\n",
        "\n",
        "# One-hot encoding\n",
        "num_classes <- 6\n",
        "y_train_encoded_full <- matrix(0, nrow = length(y_train_numerical), ncol = num_classes)\n",
        "for (i in 1:length(y_train_numerical)) {\n",
        "  y_train_encoded_full[i, y_train_numerical[i] + 1] <- 1\n",
        "}\n",
        "\n",
        "# -----------------------------\n",
        "# Resize and replicate grayscale channels for pretrained model\n",
        "# -----------------------------\n",
        "resize_dim <- 96\n",
        "\n",
        "reshape_rgb <- function(data) {\n",
        "  n <- nrow(data)\n",
        "  data <- array_reshape(data, c(n, 28, 28, 1))\n",
        "  data <- array(rep(data, 3), dim = c(n, 28, 28, 3))  # grayscale → RGB\n",
        "  data_resized <- array(0, dim = c(n, resize_dim, resize_dim, 3))\n",
        "  for (i in 1:n) {\n",
        "    img <- image_array_resize(data[i,,,], height = resize_dim, width = resize_dim)\n",
        "    data_resized[i,,,] <- img\n",
        "  }\n",
        "  return(data_resized)\n",
        "}\n",
        "\n",
        "# Split\n",
        "set.seed(42)\n",
        "train_index <- createDataPartition(y_train_numerical, p = 0.8, list = FALSE)\n",
        "\n",
        "X_train <- reshape_rgb(X_train_full[train_index, ])\n",
        "X_val <- reshape_rgb(X_train_full[-train_index, ])\n",
        "X_test <- reshape_rgb(X_test)\n",
        "\n",
        "y_train_encoded <- y_train_encoded_full[train_index, ]\n",
        "y_val_encoded <- y_train_encoded_full[-train_index, ]\n",
        "\n",
        "# -----------------------------\n",
        "# Transfer Learning: MobileNetV2\n",
        "# -----------------------------\n",
        "base_model <- application_mobilenet_v2(\n",
        "  include_top = FALSE,\n",
        "  weights = \"imagenet\",\n",
        "  input_shape = c(resize_dim, resize_dim, 3)\n",
        ")\n",
        "\n",
        "freeze_weights(base_model)  # Freeze convolutional base\n",
        "\n",
        "# Build new model\n",
        "input <- layer_input(shape = c(resize_dim, resize_dim, 3))\n",
        "output <- input |>\n",
        "  base_model() |>\n",
        "  layer_global_average_pooling_2d() |>\n",
        "  layer_dropout(rate = 0.5) |>\n",
        "  layer_dense(units = 128, activation = \"relu\") |>\n",
        "  layer_dense(units = num_classes, activation = \"softmax\")\n",
        "\n",
        "model <- keras_model(inputs = input, outputs = output)\n",
        "\n",
        "# -----------------------------\n",
        "# Compile and train\n",
        "# -----------------------------\n",
        "model$compile(\n",
        "  optimizer = \"adam\",\n",
        "  loss = \"categorical_crossentropy\",\n",
        "  metrics = list(\"accuracy\")\n",
        ")\n",
        "\n",
        "summary(model)\n",
        "\n",
        "history <- model$fit(\n",
        "  x = X_train,\n",
        "  y = y_train_encoded,\n",
        "  epochs = 20L,\n",
        "  batch_size = 32L,\n",
        "  validation_data = list(X_val, y_val_encoded)\n",
        ")\n",
        "\n",
        "# -----------------------------\n",
        "# Confusion Matrix\n",
        "# -----------------------------\n",
        "val_predictions <- model$predict(X_val)\n",
        "predicted_val_labels <- apply(val_predictions, 1, which.max) - 1\n",
        "actual_val_labels <- apply(y_val_encoded, 1, which.max) - 1\n",
        "\n",
        "label_map <- c(\"A\", \"B\", \"C\", \"D\", \"E\", \"F\")\n",
        "predicted_letters <- label_map[predicted_val_labels + 1]\n",
        "actual_letters <- label_map[actual_val_labels + 1]\n",
        "\n",
        "confusion <- table(Predicted = predicted_letters, Actual = actual_letters)\n",
        "print(confusion)\n",
        "confusionMatrix(confusion)"
      ]
    },
    {
      "cell_type": "code",
      "source": [
        "%%R\n",
        "\n",
        "# Predict\n",
        "predictions <- model$predict(X_test)\n",
        "predicted_labels <- apply(predictions, 1, which.max) - 1\n",
        "\n",
        "# Map numeric labels to class names\n",
        "label_map_reverse <- c(\"0\" = \"A\", \"1\" = \"B\", \"2\" = \"C\", \"3\" = \"D\", \"4\" = \"E\", \"5\" = \"F\")\n",
        "predicted_labels <- label_map_reverse[as.character(predicted_labels)]\n",
        "\n",
        "# Combine prediction + features, with prediction as the first column\n",
        "output <- cbind(Prediction = predicted_labels, X_test)\n",
        "\n",
        "# Save it\n",
        "write.csv(output, \"predictions_with_features.csv\", row.names = FALSE)\n",
        "cat(\"✅ Predictions (leftmost column) saved to predictions_with_features.csv\\n\")"
      ],
      "metadata": {
        "id": "rw-8wCY6tIgp"
      },
      "execution_count": null,
      "outputs": []
    },
    {
      "cell_type": "code",
      "source": [
        "files.download('predictions_with_features.csv')"
      ],
      "metadata": {
        "id": "ybqj8vTJtfco"
      },
      "execution_count": null,
      "outputs": []
    },
    {
      "cell_type": "markdown",
      "source": [
        "Previous Way"
      ],
      "metadata": {
        "id": "7SmYaZZ4tvGl"
      }
    },
    {
      "cell_type": "code",
      "source": [
        "%%R\n",
        "\n",
        "# -----------------------------\n",
        "# Predict on test set\n",
        "# -----------------------------\n",
        "predictions <- model$predict(X_test)\n",
        "predicted_labels <- apply(predictions, 1, which.max) - 1\n",
        "label_map_reverse <- c(\"0\" = \"A\", \"1\" = \"B\", \"2\" = \"C\", \"3\" = \"D\", \"4\" = \"E\", \"5\" = \"F\")\n",
        "predicted_labels <- label_map_reverse[as.character(predicted_labels)]\n",
        "\n",
        "submission <- data.frame(Label = predicted_labels)\n",
        "write.csv(submission, \"predictions.csv\", row.names = FALSE)\n",
        "cat(\"✅ Predictions saved to predictions.csv\\n\")"
      ],
      "metadata": {
        "id": "RTpoCKx90sRp"
      },
      "execution_count": null,
      "outputs": []
    },
    {
      "cell_type": "code",
      "source": [
        "files.download('predictions.csv')"
      ],
      "metadata": {
        "id": "8DwPZNwHz__W"
      },
      "execution_count": null,
      "outputs": []
    },
    {
      "cell_type": "code",
      "source": [
        "%%R\n",
        "\n",
        "# -----------------------------\n",
        "# Predict on test set\n",
        "# -----------------------------\n",
        "# Get raw prediction matrix\n",
        "predictions <- model$predict(X_test)\n",
        "\n",
        "# Display the prediction matrix (or a subset)\n",
        "cat(\"Dimensions of prediction matrix:\\n\")\n",
        "dim(predictions)  # Shows [n_samples, 6]\n",
        "cat(\"\\nFirst 5 rows of prediction matrix (probabilities for classes A-F):\\n\")\n",
        "print(head(predictions, 5))  # Print first 5 rows for inspection\n",
        "\n",
        "# Convert to predicted labels\n",
        "predicted_labels <- apply(predictions, 1, which.max) - 1\n",
        "label_map_reverse <- c(\"0\" = \"A\", \"1\" = \"B\", \"2\" = \"C\", \"3\" = \"D\", \"4\" = \"E\", \"5\" = \"F\")\n",
        "predicted_labels <- label_map_reverse[as.character(predicted_labels)]\n",
        "\n",
        "# Create submission dataframe\n",
        "submission <- data.frame(Label = predicted_labels)\n",
        "print(head(submission))"
      ],
      "metadata": {
        "id": "NO5NRfX81y-Z"
      },
      "execution_count": null,
      "outputs": []
    },
    {
      "cell_type": "code",
      "source": [
        "%%R\n",
        "\n",
        "# Predict\n",
        "predictions <- model$predict(X_test)\n",
        "predicted_labels <- apply(predictions, 1, which.max) - 1\n",
        "\n",
        "# Map numeric labels to class names\n",
        "label_map_reverse <- c(\"0\" = \"A\", \"1\" = \"B\", \"2\" = \"C\", \"3\" = \"D\", \"4\" = \"E\", \"5\" = \"F\")\n",
        "predicted_labels <- label_map_reverse[as.character(predicted_labels)]\n",
        "\n",
        "# Combine prediction + features, with prediction as the first column\n",
        "output <- cbind(Prediction = predicted_labels, X_test)\n",
        "\n",
        "# Save it\n",
        "write.csv(output, \"predictions_with_features.csv\", row.names = FALSE)\n",
        "cat(\"✅ Predictions (leftmost column) saved to predictions_with_features.csv\\n\")"
      ],
      "metadata": {
        "id": "rDpSuo9hqxna"
      },
      "execution_count": null,
      "outputs": []
    }
  ]
}